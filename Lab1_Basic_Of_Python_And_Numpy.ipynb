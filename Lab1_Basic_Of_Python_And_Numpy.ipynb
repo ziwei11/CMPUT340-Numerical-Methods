{
 "cells": [
  {
   "cell_type": "markdown",
   "metadata": {},
   "source": [
    "<center><h2>Lab 1 - CMPUT 340</h2></center>\n",
    "<b>Due date:</b> September, 10 at 11:59 pm (submit on eClass). \n",
    "\n",
    "In this lab you will learn the basics of Python and Numpy. You should start by reading and executing the code snipets in the following <a href=\"https://colab.research.google.com/github/cs231n/cs231n.github.io/blob/master/python-colab.ipynb#scrollTo=0vJLt3JRL9eR\">Colab</a>, which was authored by Kevin Zakka, Justin Johnson, Volodymmyr Kuleshov, and Issac Caswell. \n",
    "\n",
    "Once you have finished reading and executing the Colab snipets, please read the snipets below and complete the code where needed. After solving the problems and executing your code, please export this Notebook as an html by clicking File -> Downdload as -> HTML (.html) and submit your file to eClass. "
   ]
  },
  {
   "cell_type": "markdown",
   "metadata": {},
   "source": [
    "The snipet below creates matrices, A and B, with shape 3, 2 and 2, 4, respectively. The values of the matrices are chosen at random from the interval [0, 1). "
   ]
  },
  {
   "cell_type": "code",
   "execution_count": null,
   "metadata": {},
   "outputs": [],
   "source": [
    "import numpy as np\n",
    "import time\n",
    "\n",
    "A = np.random.rand(3, 2)\n",
    "B = np.random.rand(2, 4)\n",
    "\n",
    "print('A: ')\n",
    "print(A)\n",
    "print('B: ')\n",
    "print(B)"
   ]
  },
  {
   "cell_type": "markdown",
   "metadata": {},
   "source": [
    "The following snipet will perform the multiplication of A and B using Numpy's standard implementation. "
   ]
  },
  {
   "cell_type": "code",
   "execution_count": null,
   "metadata": {},
   "outputs": [],
   "source": [
    "C = A.dot(B)\n",
    "print('C = A x B')\n",
    "print('C = ')\n",
    "print(C)"
   ]
  },
  {
   "cell_type": "markdown",
   "metadata": {},
   "source": [
    "Finish the implemention of the function multiply_matrices below. \n",
    "\n",
    "Certify that the matrix returned by your function matches the result of the operation A.dot(B) from the cell above. "
   ]
  },
  {
   "cell_type": "code",
   "execution_count": null,
   "metadata": {},
   "outputs": [],
   "source": [
    "def multiply_matrices(A, B):\n",
    "    C = np.zeros((A.shape[0], B.shape[1]))\n",
    "    for i in range(A.shape[0]):\n",
    "        for j in range(B.shape[1]):\n",
    "            for k in range(B.shape[0]):\n",
    "                # write your code here\n",
    "    return C\n",
    "\n",
    "C = multiply_matrices(A, B)\n",
    "print('C = A x B')\n",
    "print('C = ')\n",
    "print(C)"
   ]
  },
  {
   "cell_type": "markdown",
   "metadata": {},
   "source": [
    "Next, implement a function called <b>multiply_matrices_vectorized</b> that also receives matrices A and B as input and returns C = A x B. Similarly to function multiply_matrices, you can assume that the multiplication is possible for A and B. \n",
    "\n",
    "In contrast with function multiply_matrices, your implementation of multiply_matrices_vectorized should contain only two 'for' loops; the innermost 'for' should be replaced by a vectorized implementation where you will use slicing, the operator * for two vectors, and the function sum from Numpy."
   ]
  },
  {
   "cell_type": "code",
   "execution_count": null,
   "metadata": {
    "scrolled": false
   },
   "outputs": [],
   "source": [
    "def multiply_matrices_vectorized(A, B):\n",
    "    C = np.zeros((A.shape[0], B.shape[1]))\n",
    "    # implement here your vectorized solution\n",
    "\n",
    "    return C\n",
    "\n",
    "C = multiply_matrices_vectorized(A, B)\n",
    "print('C = A x B')\n",
    "print('C = ')\n",
    "print(C)"
   ]
  },
  {
   "cell_type": "markdown",
   "metadata": {},
   "source": [
    "We will use the library 'time' to measure the start and end time of the multiplication. The difference between the end time and start time gives the total running time in seconds of the operation. The snipet below will compare the running time of the different implementations. "
   ]
  },
  {
   "cell_type": "code",
   "execution_count": null,
   "metadata": {},
   "outputs": [],
   "source": [
    "time_start = time.time()\n",
    "C = A.dot(B)\n",
    "time_end = time.time()\n",
    "print('Time function built-in function: %.6f seconds'% (time_end - time_start))\n",
    "\n",
    "time_start = time.time()\n",
    "C_ = multiply_matrices(A, B)\n",
    "time_end = time.time()\n",
    "print('Time function multiply_matrices: %.6f seconds'% (time_end - time_start))\n",
    "\n",
    "time_start = time.time()\n",
    "C__ = multiply_matrices_vectorized(A, B)\n",
    "time_end = time.time()\n",
    "print('Time function multiply_matrices_vectorized: %.6f seconds'% (time_end - time_start))"
   ]
  },
  {
   "cell_type": "markdown",
   "metadata": {},
   "source": [
    "Let's increase the size of the matrices to better distinguish the different implementations. We will now use matrices of shape 300x200 and 200x400. \n",
    "\n",
    "The built-in implementation should be the fastest because it uses a better algorithm than our naïve implementation. We should also notice a major difference in running time between multiply_matrices and multiply_matrices_vectorized. This is due to the vectorization we performed in the latter. \n",
    "\n",
    "The operations with vectors and matrices offered by Numpy are much more efficient than our implementation with a for-loop. That is why, whenever possible, we will prefer to use vectorized implementations of the algorithms in this course. "
   ]
  },
  {
   "cell_type": "code",
   "execution_count": null,
   "metadata": {},
   "outputs": [],
   "source": [
    "A = np.random.rand(300, 200)\n",
    "B = np.random.rand(200, 400)\n",
    "\n",
    "time_start = time.time()\n",
    "C = A.dot(B)\n",
    "time_end = time.time()\n",
    "print('Time function built-in function: %.6f seconds'% (time_end - time_start))\n",
    "\n",
    "time_start = time.time()\n",
    "C = multiply_matrices(A, B)\n",
    "time_end = time.time()\n",
    "print('Time function multiply_matrices: %.6f seconds'% (time_end - time_start))\n",
    "\n",
    "time_start = time.time()\n",
    "C = multiply_matrices_vectorized(A, B)\n",
    "time_end = time.time()\n",
    "print('Time function multiply_matrices_vectorized: %.6f seconds'% (time_end - time_start))"
   ]
  },
  {
   "cell_type": "markdown",
   "metadata": {},
   "source": [
    "The next snipet creates a set of squared matrices of different sizes. Finish the implementation so that we invoke multiply_matrices and multiply_matrices_vectorized on all pairs of matrices (i.e., we will compute matrices_A[i] * matrices_B[i] for all i). The running time of both functions for all pairs should be stored in the lists time_multiply_matrices and time_multiply_matrices_vectorized. \n",
    "\n",
    "Use matplotlib to plot the running time of the two functions for the set of pairs of matrices. The x-axis should be labelled 'Size of the Matrices' and the y-axis should be labelled 'Running Time (seconds)'. Plot one line for each list (time_multiply_matrices and time_multiply_matrices_vectorized). "
   ]
  },
  {
   "cell_type": "code",
   "execution_count": null,
   "metadata": {},
   "outputs": [],
   "source": [
    "matrices_A = [np.random.rand(i, i) for i in range(1, 500, 100)]\n",
    "matrices_B = [np.random.rand(i, i) for i in range(1, 500, 100)]\n",
    "\n",
    "time_multiply_matrices = []\n",
    "time_multiply_matrices_vectorized = []\n",
    "\n",
    "# complete implementation\n"
   ]
  },
  {
   "cell_type": "code",
   "execution_count": null,
   "metadata": {},
   "outputs": [],
   "source": [
    "import matplotlib.pyplot as plt\n",
    "\n",
    "plt.plot(time_multiply_matrices)\n",
    "plt.plot(time_multiply_matrices_vectorized)\n",
    "plt.xlabel('Matrices Size')\n",
    "plt.ylabel('Running Time (seconds)')\n",
    "plt.title('Vectorized vs. Non-Vectorized Matrix Multiplication')\n",
    "plt.legend(['Non-Vectorized', 'Vectorized'])"
   ]
  }
 ],
 "metadata": {
  "kernelspec": {
   "display_name": "Python 3",
   "language": "python",
   "name": "python3"
  },
  "language_info": {
   "codemirror_mode": {
    "name": "ipython",
    "version": 3
   },
   "file_extension": ".py",
   "mimetype": "text/x-python",
   "name": "python",
   "nbconvert_exporter": "python",
   "pygments_lexer": "ipython3",
   "version": "3.7.2"
  }
 },
 "nbformat": 4,
 "nbformat_minor": 4
}
