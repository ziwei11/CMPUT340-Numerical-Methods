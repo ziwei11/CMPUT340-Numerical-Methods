{
  "nbformat": 4,
  "nbformat_minor": 0,
  "metadata": {
    "kernelspec": {
      "display_name": "Python 3",
      "language": "python",
      "name": "python3"
    },
    "language_info": {
      "codemirror_mode": {
        "name": "ipython",
        "version": 3
      },
      "file_extension": ".py",
      "mimetype": "text/x-python",
      "name": "python",
      "nbconvert_exporter": "python",
      "pygments_lexer": "ipython3",
      "version": "3.7.2"
    },
    "colab": {
      "name": "Lab2-LU-Factorization.ipynb",
      "provenance": [],
      "collapsed_sections": []
    }
  },
  "cells": [
    {
      "cell_type": "markdown",
      "metadata": {
        "id": "6CaRdIf_xd6i"
      },
      "source": [
        "<h2>Lab 2: LU Factorization</h2>\n",
        "<b>Demo Date: </b> Sept. 22 <br>\n",
        "<b>Due Date: </b> Sept. 25\n",
        "\n",
        "In this lab you will implement two versions of the LU Factorization algorithm: the one presented in the pseudocode of the textbook and another that uses Numpy operations with matrices. We will then compare the performance of the two implementations on artificial problems. Here we will assume that the linear system has a single solution and that pivoting isn't needed (we will study pivoting in our Tuesday lecture).\n",
        "\n",
        "In class we discussed how the matrix $A$ of a linear system $Ax = b$ can be decomposed into a lower triangular matrix $L$ and an upper triangular matrix $U$. i.e., $A = LU$. The decomposition allows us to write the original system as $LUx = b$. Then, we make $y = Ux$ and solve the system $Ly = b$ with an algorithm called forward-substitution. The solution $y$ is then be used to discover the solution to the original problem, by making $Ux = y$ and solving this system with the back-substitution algorithm. \n",
        "\n",
        "In class we studied the back-substitution algorithm, which is very similar to the forward-substitution algorithm. Back-substitution solves systems whose matrix A is an upper triangular matrix, while forward-substitution solves systems whose matrix A is a lower triangular matrix. \n",
        "\n",
        "Before moving forward, please take a look at the pseudocode of the forward and back-substitution algorithms in the textbook (see Algorithm 2.1 on page 64 and Algorithm 2.2 on page 65). If you understand the forward and back-substitution algorithms, then please go ahead and study the pseudocode of the LU-factorization (see Algorithm 2.3 on page 68 of the textbook). \n",
        "\n",
        "Let's now implement these three algorithms to solve the system used as example in class. \n",
        "\n",
        "\\begin{align*}\n",
        "Ax = \\begin{bmatrix}\n",
        "1 & 2 & 2 \\\\\n",
        "4 & 4 & 2 \\\\\n",
        "4 & 6 & 4 \\\\\n",
        "\\end{bmatrix}\n",
        "\\begin{bmatrix}\n",
        "x_1 \\\\\n",
        "x_2 \\\\\n",
        "x_3 \\\\\n",
        "\\end{bmatrix} = \n",
        "\\begin{bmatrix}\n",
        "3 \\\\\n",
        "6 \\\\\n",
        "10 \\\\\n",
        "\\end{bmatrix} = b\n",
        "\\end{align*}"
      ]
    },
    {
      "cell_type": "code",
      "metadata": {
        "id": "vISWONpHxd6j"
      },
      "source": [
        "import numpy as np\n",
        "import time\n",
        "import copy\n",
        "import scipy.linalg\n",
        "\n",
        "A = np.array([[1, 2, 2], [4, 4, 2], [4, 6, 4]])\n",
        "b = np.array([3, 6, 10]).reshape(3, 1)"
      ],
      "execution_count": null,
      "outputs": []
    },
    {
      "cell_type": "markdown",
      "metadata": {
        "id": "GctFvb87xd6n"
      },
      "source": [
        "Finish the implementation of the algorithms below. The implementation of these algorithms should follow the pseudocode of the textbook. \n",
        "\n",
        "The output should be $x = [-1, 3, -1]^T$"
      ]
    },
    {
      "cell_type": "code",
      "metadata": {
        "id": "-OT8OfqWxd6n",
        "colab": {
          "base_uri": "https://localhost:8080/",
          "height": 85
        },
        "outputId": "6c983654-8a44-418e-8c01-2059b862b5eb"
      },
      "source": [
        "def forward_substituion(L, b):\n",
        "  # change the data type of b\n",
        "  n = len(A)\n",
        "  b = b + 0.0\n",
        "  x = np.zeros(n)\n",
        "  for j in range(0, n):\n",
        "    if L[j][j] == 0:\n",
        "      break # singular matrix\n",
        "    x[j] = b[j] / L[j][j]\n",
        "\n",
        "    for i in range(j, n):\n",
        "      b[i] = b[i] - L[i][j] * x[j]\n",
        "  return x\n",
        "    \n",
        "\n",
        "def back_substituion(U, b):\n",
        "  # change the data type of b\n",
        "  n = len(A)\n",
        "  b = b + 0.0\n",
        "  x = np.zeros(n)\n",
        "  for j in range(n - 1, -1, -1):\n",
        "    if U[j][j] == 0:\n",
        "      break # singular matrix\n",
        "    x[j] = b[j] / U[j][j]\n",
        "\n",
        "    for i in range(0, j):\n",
        "      b[i] = b[i] - U[i][j] * x[j]\n",
        "  return x\n",
        "    \n",
        "\n",
        "def lu_factor_v1(A):\n",
        "  # change the data type of A\n",
        "  A = A + 0.0\n",
        "  # create matrix M\n",
        "  n = len(A)\n",
        "  M = np.zeros(shape=(A.shape[0], A.shape[1]))\n",
        "\n",
        "  # iterate from 0 to n - 2\n",
        "  for k in range(0, n - 1):\n",
        "    if A[k][k] == 0:\n",
        "      break\n",
        "    for i in range(k + 1, n):\n",
        "      M[i][k] = A[i][k] / A[k][k]\n",
        "    for j in range(k + 1, n):\n",
        "      for i in range(k + 1, n):\n",
        "        A[i][j] = A[i][j] - M[i][k] * A[k][j]\n",
        "\n",
        "  # Set all values which are on M's diagonal equal to 1\n",
        "  for index_i in range(A.shape[0]):\n",
        "    for index_j in range(A.shape[1]):\n",
        "      if index_i == index_j:\n",
        "        M[index_i][index_j] = 1\n",
        "  \n",
        "  # set the values of lower triangular equal to 0\n",
        "  for i in range(A.shape[0]):\n",
        "    for j in range(i):\n",
        "      A[i][j] = 0\n",
        "\n",
        "  return M, A\n",
        "\n",
        "\n",
        "n = len(b)\n",
        "A1 = copy.deepcopy(A)\n",
        "b1 = copy.deepcopy(b)\n",
        "\n",
        "L, U = lu_factor_v1(A1)\n",
        "#print(L)\n",
        "#print(U)\n",
        "print(b1)\n",
        "y = forward_substituion(L, b1)\n",
        "#print(y) \n",
        "x = back_substituion(U, y)     \n",
        "\n",
        "print('x: ', x)"
      ],
      "execution_count": null,
      "outputs": [
        {
          "output_type": "stream",
          "text": [
            "[[ 3]\n",
            " [ 6]\n",
            " [10]]\n",
            "x:  [-1.  3. -1.]\n"
          ],
          "name": "stdout"
        }
      ]
    },
    {
      "cell_type": "markdown",
      "metadata": {
        "id": "Wbjg-hszxd6q"
      },
      "source": [
        "Next, we will write a vectorized implementation of the LU factorization. For that you will modify your previous implementation. The only for-loop you will keep in the vectorized implementation is the outer loop of the non-vectorized implementation, the one that iterates over the $k-1$ columns of $A$. You should rely on numpy functions to rewrite the code."
      ]
    },
    {
      "cell_type": "code",
      "metadata": {
        "id": "ZzfeTuy0xd6r",
        "colab": {
          "base_uri": "https://localhost:8080/",
          "height": 187
        },
        "outputId": "7c0ce606-9055-4695-b958-fb50e855ea08"
      },
      "source": [
        "def lu_factor_v2(A):\n",
        "  '''\n",
        "  n = len(A)\n",
        "  A = A + 0.0\n",
        "  M = np.eye(n, k = 0)\n",
        "  for k in range(0, n - 1):\n",
        "    if A[k][k] == 0:\n",
        "      break\n",
        "    M[k+1:n, k] = A[k+1:n, k] / A[k][k]\n",
        "    # set A[k+1:n, k] = 0\n",
        "    A[k+1:n, k] = 0\n",
        "    # reshape M and A into Matrix\n",
        "    M_reshape = M[k+1:n, k].reshape(n - 1 - k, 1)\n",
        "    A_reshape = A[k, k+1:n].reshape(1, n - 1 - k)\n",
        "    # update A[k+1:n, k+1:n]\n",
        "    A[k+1:n, k+1:n] = A[k+1:n, k+1:n] - np.dot(M_reshape, A_reshape)\n",
        "  return M, A\n",
        "  '''\n",
        "  \n",
        "  # Another way to do this part\n",
        "  # change the datatype of A\n",
        "  A = A + 0.0\n",
        "  n = len(A)\n",
        "  L_minus = 1\n",
        "  U = copy.deepcopy(A)\n",
        "  L = np.eye(n, k = 0)\n",
        "  # iterate from the first column to the column before the last column\n",
        "  for k in range(0, n - 1):\n",
        "    if A[k][k] == 0:\n",
        "      break\n",
        "    # create a len(A) * len(A) identity matrix\n",
        "    # I = np.eye(len(A), k = 0, dtype = float)\n",
        "    I = np.eye(n, k = 0)\n",
        "    # create an e_k which is the transpose of the kth column of the identity matrix\n",
        "    e_k = np.zeros(shape = (1, n))\n",
        "    e_k[0][k] = 1\n",
        "    # create a m which is the kth column of the matrix U\n",
        "    m = copy.deepcopy(U[:, k])\n",
        "    m = m.reshape(n, 1)\n",
        "    # m_i = a_i / a_k, i = k + 1, ...\n",
        "    m = np.divide(m, U[k][k])\n",
        "    # set the values before m_k+1 equal to 0\n",
        "    m[0:(k + 1), 0] = 0\n",
        "    # M = I - m * e_k\n",
        "    M = I - np.dot(m, e_k)\n",
        "    # L = I + m * e_k\n",
        "    l = I + np.dot(m, e_k)\n",
        "    # L_-1 \n",
        "    \n",
        "    L_minus = np.dot(M, L_minus)\n",
        "    #print(L_minus)\n",
        "    # M_n * ... * M_2 * M_1 * A = U\n",
        "    U = np.dot(M, U)\n",
        "    # L_1 * L_2 * ... * L_n = L\n",
        "    L = np.dot(L, l)\n",
        "\n",
        "  return L_minus, L, U\n",
        "\n",
        "  \n",
        "\n",
        "\n",
        "L_minus, L, U = lu_factor_v2(copy.deepcopy(A))\n",
        "print(L_minus)\n",
        "print(L)\n",
        "print(U)\n",
        "y = forward_substituion(L, copy.deepcopy(b))\n",
        "#print(y)   \n",
        "x = back_substituion(U, y)\n",
        "print('x: ', x)"
      ],
      "execution_count": null,
      "outputs": [
        {
          "output_type": "stream",
          "text": [
            "[[ 1.   0.   0. ]\n",
            " [-4.   1.   0. ]\n",
            " [-2.  -0.5  1. ]]\n",
            "[[1.  0.  0. ]\n",
            " [4.  1.  0. ]\n",
            " [4.  0.5 1. ]]\n",
            "[[ 1.  2.  2.]\n",
            " [ 0. -4. -6.]\n",
            " [ 0.  0. -1.]]\n",
            "x:  [-1.  3. -1.]\n"
          ],
          "name": "stdout"
        }
      ]
    },
    {
      "cell_type": "markdown",
      "metadata": {
        "id": "LAC5DqIyxd6u"
      },
      "source": [
        "In the following snippet we will compare the running time of the vectorized and non-vectorized implementation by performing the LU-factorization on larger $200 \\times 200$ matrices. "
      ]
    },
    {
      "cell_type": "code",
      "metadata": {
        "id": "NrlKURNqxd6u",
        "colab": {
          "base_uri": "https://localhost:8080/",
          "height": 51
        },
        "outputId": "3dc831ac-3a92-4ec8-8c7c-878c2019f056"
      },
      "source": [
        "running_time_vectorized = []\n",
        "running_time_non_vectorized = []\n",
        "\n",
        "for _ in range(10):\n",
        "    test_A = np.tril(np.random.rand(200, 200))\n",
        "    \n",
        "    A = copy.deepcopy(test_A)\n",
        "    start = time.time()\n",
        "    L, U = lu_factor_v1(A)\n",
        "    end = time.time()\n",
        "    running_time_non_vectorized.append(end - start)\n",
        "    \n",
        "    A = copy.deepcopy(test_A)\n",
        "    start = time.time()\n",
        "    L, U = lu_factor_v2(A)\n",
        "    end = time.time()\n",
        "    running_time_vectorized.append(end - start)\n",
        "\n",
        "print('Non-Vectorized: %.4f seconds' % np.average(running_time_non_vectorized))\n",
        "print('Vectorized: %.4f seconds' % np.average(running_time_vectorized))"
      ],
      "execution_count": null,
      "outputs": [
        {
          "output_type": "stream",
          "text": [
            "Non-Vectorized: 3.2248 seconds\n",
            "Vectorized: 0.0123 seconds\n"
          ],
          "name": "stdout"
        }
      ]
    }
  ]
}