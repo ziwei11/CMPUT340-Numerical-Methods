{
  "nbformat": 4,
  "nbformat_minor": 0,
  "metadata": {
    "kernelspec": {
      "display_name": "Python 3",
      "language": "python",
      "name": "python3"
    },
    "language_info": {
      "codemirror_mode": {
        "name": "ipython",
        "version": 3
      },
      "file_extension": ".py",
      "mimetype": "text/x-python",
      "name": "python",
      "nbconvert_exporter": "python",
      "pygments_lexer": "ipython3",
      "version": "3.7.3"
    },
    "colab": {
      "name": "QR Concrete.ipynb",
      "provenance": []
    }
  },
  "cells": [
    {
      "cell_type": "markdown",
      "metadata": {
        "id": "NAMD3zEC968s"
      },
      "source": [
        "# QR methods: concrete example\n",
        "\n",
        "$A$ will be a $m \\times n$ matrix. We want to factor $A$ into $A=Q\\begin{bmatrix}R \\\\ 0\\end{bmatrix}$.\n",
        "\n",
        "In this situation, $Q$ is an $m \\times m$ orthogonal matrix. This means each column $j$ of $Q$ is a unit vector $\\left(\\left|\\left| Q_{\\ast,j} \\right|\\right|_2=1\\right)$ and is at a right angle to any other column! $\\left(\\forall k\\neq j: Q_{\\ast,j}^T \\cdot Q_{\\ast,k} = 0\\right)$.\n",
        "\n",
        "$\\begin{bmatrix}R \\\\ 0\\end{bmatrix}$ is an $m \\times n$ matrix where the last two rows are all 0's. $R$ is an $n \\times n$ matrix representing the first n rows. $R$ is upper-triangular.\n",
        "\n",
        "Thus, we transform the problem from approximating $x$ in $Ax\\approx b$ to $Q\\begin{bmatrix}R \\\\ 0\\end{bmatrix}x\\approx b$. But the nice property of $Q$ is that it's inverse is its transpose: $Q^TQ=I$. So we can multiply both sides by $Q^T$ on the left.\n",
        "\n",
        "$$\n",
        "Q^TQ\\begin{bmatrix}R \\\\ 0\\end{bmatrix}x\\approx Q^Tb\n",
        "$$\n",
        "\n",
        "So that all we need to solve is the equation:\n",
        "\n",
        "$$\n",
        "\\begin{bmatrix}R \\\\ 0\\end{bmatrix}x\\approx c\n",
        "$$\n",
        "\n",
        "Where $c=Q^Tb$, which we compute directly by multiplication.\n",
        "\n",
        "Since $R$ (and $\\begin{bmatrix}R \\\\ 0\\end{bmatrix}$) is upper-triangular, we can use backwards subsitition to solve the first $m$ equations.\n",
        "\n",
        "This is a system of $m$ equations with $n$ unknowns, just like our original system $Ax\\approx b$, but since the last two rows are 0's, we can't solve them at all! In fact, the last $m-n$ equations look like:\n",
        "\n",
        "$$0x_1+0x_2+0x_3+\\cdots+0x_{n}=\\mbox{some nonzero number}$$ \n",
        "$$0=\\mbox{some nonzero number}$$ \n",
        "\n",
        "What's happened here is that the QR factorization has re-arranged our equation so that the top $n$ equations are \"exactly\" (except for rounding error) solvable, but the last $m-n$ equations can't be solved at all.\n",
        "\n",
        "If we don't account for rounding error, our residual\n",
        "is actually the same as the residual of just the last $m-n$ equations."
      ]
    },
    {
      "cell_type": "code",
      "metadata": {
        "id": "RSIkN4Fi968t",
        "colab": {
          "base_uri": "https://localhost:8080/",
          "height": 153
        },
        "outputId": "bf058f16-a784-432e-8b5b-3ff460a41c4f"
      },
      "source": [
        "import numpy as np\n",
        "from copy import deepcopy\n",
        "\n",
        "m = 5 # Number of equations\n",
        "n = 3 # Number of unknowns\n",
        "\n",
        "A = np.random.rand(m, n)\n",
        "#A = np.array([[4, 9, -14], [3, 13, 2], [0, 5, 0]])\n",
        "b = np.ones(m)\n",
        "#b = np.ones(3)\n",
        "\n",
        "print(f\"A: {A.shape[0]}x{A.shape[1]}\")\n",
        "print(A)\n",
        "print(f\"b: {b.shape[0]} elements\")\n",
        "print(b)"
      ],
      "execution_count": null,
      "outputs": [
        {
          "output_type": "stream",
          "text": [
            "A: 5x3\n",
            "[[0.7515779  0.13628821 0.67433751]\n",
            " [0.83683455 0.41442425 0.2770372 ]\n",
            " [0.82558806 0.67541941 0.46522329]\n",
            " [0.9058038  0.74856777 0.31481558]\n",
            " [0.69145822 0.51812655 0.25473945]]\n",
            "b: 5 elements\n",
            "[1. 1. 1. 1. 1.]\n"
          ],
          "name": "stdout"
        }
      ]
    },
    {
      "cell_type": "code",
      "metadata": {
        "id": "8LonDegR968z",
        "colab": {
          "base_uri": "https://localhost:8080/",
          "height": 221
        },
        "outputId": "2e4093a1-e916-4521-ab09-4da3f495909d"
      },
      "source": [
        "# DO NOT use this method in your Lab #3 solution!\n",
        "Q, R0 = np.linalg.qr(A, mode='complete')\n",
        "\n",
        "print(f\"Q: {Q.shape[0]}x{Q.shape[1]}\")\n",
        "print(Q)\n",
        "print(f\"R0: {R0.shape[0]}x{R0.shape[1]}\")\n",
        "print(R0)"
      ],
      "execution_count": null,
      "outputs": [
        {
          "output_type": "stream",
          "text": [
            "Q: 5x5\n",
            "[[-0.41719884 -0.77489221  0.41204422  0.21458009  0.09829615]\n",
            " [-0.46452457 -0.25858892 -0.70992892 -0.32207726 -0.33108286]\n",
            " [-0.45828168  0.35803598  0.54952231 -0.50500586 -0.32370117]\n",
            " [-0.50280922  0.41012849 -0.08972745  0.74174252 -0.14402959]\n",
            " [-0.38382657  0.19046966 -0.12725842 -0.21215261  0.86901958]]\n",
            "R0: 5x3\n",
            "[[-1.80148607 -1.13415939 -0.87929467]\n",
            " [ 0.          0.43474662 -0.24997598]\n",
            " [ 0.          0.          0.27616539]\n",
            " [ 0.          0.          0.        ]\n",
            " [ 0.          0.          0.        ]]\n"
          ],
          "name": "stdout"
        }
      ]
    },
    {
      "cell_type": "markdown",
      "metadata": {
        "id": "DexOHQ-69684"
      },
      "source": [
        "Notice that that last two rows of $\\begin{bmatrix}R \\\\ 0\\end{bmatrix}$ are all 0's and that $R$ is upper-triangular!\n",
        "\n",
        "We can also recover $A$ from $Q\\begin{bmatrix}R \\\\ 0\\end{bmatrix}$, but there's some rounding errors..."
      ]
    },
    {
      "cell_type": "code",
      "metadata": {
        "id": "X7lbJg4V9685",
        "colab": {
          "base_uri": "https://localhost:8080/",
          "height": 102
        },
        "outputId": "194ee785-32a4-473e-f869-7022a9ba996d"
      },
      "source": [
        "print(Q.dot(R0)-A)"
      ],
      "execution_count": null,
      "outputs": [
        {
          "output_type": "stream",
          "text": [
            "[[0.00000000e+00 2.49800181e-16 2.22044605e-16]\n",
            " [1.11022302e-16 0.00000000e+00 1.11022302e-16]\n",
            " [0.00000000e+00 1.11022302e-16 0.00000000e+00]\n",
            " [1.11022302e-16 1.11022302e-16 1.11022302e-16]\n",
            " [1.11022302e-16 1.11022302e-16 5.55111512e-17]]\n"
          ],
          "name": "stdout"
        }
      ]
    },
    {
      "cell_type": "markdown",
      "metadata": {
        "id": "5e3Nodau9689"
      },
      "source": [
        "Each column of Q is a unit vector! (Except for some roudning errors...)"
      ]
    },
    {
      "cell_type": "code",
      "metadata": {
        "id": "SAFfobWX9689",
        "colab": {
          "base_uri": "https://localhost:8080/",
          "height": 102
        },
        "outputId": "5e487b01-6e6e-472a-d750-102500d7abea"
      },
      "source": [
        "for j in range(m):\n",
        "    print(f\"column {j}: {np.linalg.norm(Q[:,j])}\")"
      ],
      "execution_count": null,
      "outputs": [
        {
          "output_type": "stream",
          "text": [
            "column 0: 1.0\n",
            "column 1: 0.9999999999999999\n",
            "column 2: 0.9999999999999998\n",
            "column 3: 0.9999999999999999\n",
            "column 4: 0.9999999999999999\n"
          ],
          "name": "stdout"
        }
      ]
    },
    {
      "cell_type": "markdown",
      "metadata": {
        "id": "L6usb2HM969C"
      },
      "source": [
        "$Q^TQ$ is the identity matrix! (Except for some rounding errors...)"
      ]
    },
    {
      "cell_type": "code",
      "metadata": {
        "id": "vyhDbxiF969C",
        "colab": {
          "base_uri": "https://localhost:8080/",
          "height": 187
        },
        "outputId": "84054643-3acd-4c81-9a96-eaadcb7465c9"
      },
      "source": [
        "print(Q.T.dot(Q))"
      ],
      "execution_count": null,
      "outputs": [
        {
          "output_type": "stream",
          "text": [
            "[[ 1.00000000e+00  8.77451787e-17 -5.00533066e-17 -4.36561964e-17\n",
            "  -4.80504900e-17]\n",
            " [ 8.77451787e-17  1.00000000e+00 -1.37996118e-16 -2.16857135e-16\n",
            "  -1.23839904e-16]\n",
            " [-5.00533066e-17 -1.37996118e-16  1.00000000e+00 -4.02344277e-16\n",
            "  -2.05003046e-16]\n",
            " [-4.36561964e-17 -2.16857135e-16 -4.02344277e-16  1.00000000e+00\n",
            "  -7.66247689e-17]\n",
            " [-4.80504900e-17 -1.23839904e-16 -2.05003046e-16 -7.66247689e-17\n",
            "   1.00000000e+00]]\n"
          ],
          "name": "stdout"
        }
      ]
    },
    {
      "cell_type": "markdown",
      "metadata": {
        "id": "X39efBCm969G"
      },
      "source": [
        "$Q^Tb$ (also known as $c=\\begin{bmatrix}c_1 \\\\ c_2\\end{bmatrix}$) doesn't have zeros in the last $m-n$ entries!"
      ]
    },
    {
      "cell_type": "code",
      "metadata": {
        "id": "PxFHaE4f969H",
        "colab": {
          "base_uri": "https://localhost:8080/",
          "height": 34
        },
        "outputId": "9330d66a-fa1d-4cc0-9393-22a92c349c77"
      },
      "source": [
        "c = Q.T.dot(b)\n",
        "c1 = c[:n]\n",
        "c2 = c[m-n+1:] # The +1 here accounts for the fact that numpy arrays start at 0!\n",
        "print(c1, c2)"
      ],
      "execution_count": null,
      "outputs": [
        {
          "output_type": "stream",
          "text": [
            "[-2.22664089 -0.07484699  0.03465174] [-0.08291312  0.16850211]\n"
          ],
          "name": "stdout"
        }
      ]
    },
    {
      "cell_type": "markdown",
      "metadata": {
        "id": "ycxKEOTS969O"
      },
      "source": [
        "We expect the norm of our residual to be equal to the Euclidean norm of the last $m-n$ elements of $Q^Tb$ (also known as $c_2$):"
      ]
    },
    {
      "cell_type": "code",
      "metadata": {
        "id": "0RvvfiQO969O",
        "colab": {
          "base_uri": "https://localhost:8080/",
          "height": 34
        },
        "outputId": "996d757d-cd56-47c7-b3d9-820c27cf754b"
      },
      "source": [
        "# Compute the expected residual from the QR factorization \"c_2\"\n",
        "expected_r = np.linalg.norm(c2)\n",
        "print(f\"norm of the last {m-n} elements of c: {expected_r}\")"
      ],
      "execution_count": null,
      "outputs": [
        {
          "output_type": "stream",
          "text": [
            "norm of the last 2 elements of c: 0.18779655855961364\n"
          ],
          "name": "stdout"
        }
      ]
    },
    {
      "cell_type": "markdown",
      "metadata": {
        "id": "PqP19nsl969R"
      },
      "source": [
        "Is it?"
      ]
    },
    {
      "cell_type": "code",
      "metadata": {
        "id": "r7q3UQAm969R",
        "colab": {
          "base_uri": "https://localhost:8080/",
          "height": 34
        },
        "outputId": "7ec08414-1cf1-4eb4-b21f-9215da333296"
      },
      "source": [
        "from scipy.optimize import lsq_linear\n",
        "# DO NOT use this method in your Lab #3 solution!\n",
        "x = lsq_linear(A, b).x\n",
        "# compute the residual: r = Ax-b\n",
        "r = np.linalg.norm(A.dot(x)-b)\n",
        "\n",
        "print(r)"
      ],
      "execution_count": null,
      "outputs": [
        {
          "output_type": "stream",
          "text": [
            "0.18779655855961364\n"
          ],
          "name": "stdout"
        }
      ]
    },
    {
      "cell_type": "markdown",
      "metadata": {
        "id": "JwBxu2IE969U"
      },
      "source": [
        "Yep!"
      ]
    },
    {
      "cell_type": "code",
      "metadata": {
        "id": "GLV6H5dI969V"
      },
      "source": [
        ""
      ],
      "execution_count": null,
      "outputs": []
    },
    {
      "cell_type": "markdown",
      "metadata": {
        "id": "uphHPAXm969X"
      },
      "source": [
        ""
      ]
    }
  ]
}